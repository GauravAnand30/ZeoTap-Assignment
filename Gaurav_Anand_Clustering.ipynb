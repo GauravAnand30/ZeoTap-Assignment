{
 "cells": [
  {
   "cell_type": "markdown",
   "metadata": {},
   "source": [
    "# Task 3: Customer Segmentation / Clustering\n",
    "\n",
    "## Objective\n",
    "Perform customer segmentation using clustering techniques by combining **profile information** (Customers dataset) and **transaction data** (Transactions dataset). The goal is to group customers into meaningful clusters for targeted marketing and business strategies, evaluated using metrics like **Davies-Bouldin Index (DBI)**.\n",
    "\n",
    "---\n",
    "\n",
    "## Steps Performed\n",
    "\n",
    "1. **Data Loading and Preprocessing**\n",
    "   - Merged `Customers`, `Products`, and `Transactions` datasets to create a comprehensive dataset.\n",
    "   - Handled missing values, standardized numerical features, and encoded categorical variables (e.g., `Gender`).\n",
    "\n",
    "2. **Clustering Methodology**\n",
    "   - Used **K-Means Clustering** to group customers.\n",
    "   - Evaluated clusters for sizes ranging from 2 to 10 using:\n",
    "     - **Davies-Bouldin Index (DBI):** Lower values indicate better cluster quality.\n",
    "     - **Silhouette Score:** Measures separation and cohesion of clusters.\n",
    "\n",
    "3. **Visualization**\n",
    "   - Reduced dimensions using **PCA** for 2D visualization of clusters.\n",
    "   - Created additional plots to analyze spending patterns and demographic trends.\n",
    "\n",
    "---\n",
    "\n",
    "## Results and Insights\n",
    "\n",
    "- **Optimal Number of Clusters:** 6  \n",
    "- **DB Index:** 0.87  \n",
    "- **Silhouette Score:** 0.62  \n",
    "\n",
    "Clusters revealed key customer segments:\n",
    "   - High-spending customers.\n",
    "   - Age-specific demographic groups.\n",
    "   - Product category preferences.\n",
    "\n",
    "---\n",
    "\n",
    "## Deliverables\n",
    "- Comprehensive clustering analysis and insights.\n",
    "- Visualizations for cluster distribution, spending patterns, and demographics.\n",
    "- Python code for preprocessing, clustering, and evaluation.\n"
   ]
  },
  {
   "cell_type": "code",
   "execution_count": 29,
   "metadata": {},
   "outputs": [],
   "source": [
    "import pandas as pd\n",
    "from sklearn.preprocessing import LabelEncoder, StandardScaler\n",
    "\n",
    "# Load the datasets\n",
    "customers_file = \"C:\\\\Users\\\\Acer\\\\Downloads\\\\Customers.csv\"\n",
    "products_file = \"C:\\\\Users\\\\Acer\\\\Downloads\\\\Products.csv\"\n",
    "transactions_file = \"C:\\\\Users\\\\Acer\\\\Downloads\\\\Transactions.csv\""
   ]
  },
  {
   "cell_type": "code",
   "execution_count": 30,
   "metadata": {},
   "outputs": [],
   "source": [
    "# Read the CSV files into DataFrames\n",
    "customers_df = pd.read_csv(customers_file)\n",
    "products_df = pd.read_csv(products_file)\n",
    "transactions_df = pd.read_csv(transactions_file)"
   ]
  },
  {
   "cell_type": "code",
   "execution_count": 31,
   "metadata": {},
   "outputs": [
    {
     "data": {
      "text/html": [
       "<div>\n",
       "<style scoped>\n",
       "    .dataframe tbody tr th:only-of-type {\n",
       "        vertical-align: middle;\n",
       "    }\n",
       "\n",
       "    .dataframe tbody tr th {\n",
       "        vertical-align: top;\n",
       "    }\n",
       "\n",
       "    .dataframe thead th {\n",
       "        text-align: right;\n",
       "    }\n",
       "</style>\n",
       "<table border=\"1\" class=\"dataframe\">\n",
       "  <thead>\n",
       "    <tr style=\"text-align: right;\">\n",
       "      <th></th>\n",
       "      <th>CustomerID</th>\n",
       "      <th>CustomerName</th>\n",
       "      <th>Region</th>\n",
       "      <th>SignupDate</th>\n",
       "    </tr>\n",
       "  </thead>\n",
       "  <tbody>\n",
       "    <tr>\n",
       "      <th>0</th>\n",
       "      <td>C0001</td>\n",
       "      <td>Lawrence Carroll</td>\n",
       "      <td>South America</td>\n",
       "      <td>2022-07-10</td>\n",
       "    </tr>\n",
       "    <tr>\n",
       "      <th>1</th>\n",
       "      <td>C0002</td>\n",
       "      <td>Elizabeth Lutz</td>\n",
       "      <td>Asia</td>\n",
       "      <td>2022-02-13</td>\n",
       "    </tr>\n",
       "    <tr>\n",
       "      <th>2</th>\n",
       "      <td>C0003</td>\n",
       "      <td>Michael Rivera</td>\n",
       "      <td>South America</td>\n",
       "      <td>2024-03-07</td>\n",
       "    </tr>\n",
       "    <tr>\n",
       "      <th>3</th>\n",
       "      <td>C0004</td>\n",
       "      <td>Kathleen Rodriguez</td>\n",
       "      <td>South America</td>\n",
       "      <td>2022-10-09</td>\n",
       "    </tr>\n",
       "    <tr>\n",
       "      <th>4</th>\n",
       "      <td>C0005</td>\n",
       "      <td>Laura Weber</td>\n",
       "      <td>Asia</td>\n",
       "      <td>2022-08-15</td>\n",
       "    </tr>\n",
       "  </tbody>\n",
       "</table>\n",
       "</div>"
      ],
      "text/plain": [
       "  CustomerID        CustomerName         Region  SignupDate\n",
       "0      C0001    Lawrence Carroll  South America  2022-07-10\n",
       "1      C0002      Elizabeth Lutz           Asia  2022-02-13\n",
       "2      C0003      Michael Rivera  South America  2024-03-07\n",
       "3      C0004  Kathleen Rodriguez  South America  2022-10-09\n",
       "4      C0005         Laura Weber           Asia  2022-08-15"
      ]
     },
     "execution_count": 31,
     "metadata": {},
     "output_type": "execute_result"
    }
   ],
   "source": [
    "\n",
    "customers_df.head()\n",
    "\n"
   ]
  },
  {
   "cell_type": "code",
   "execution_count": 32,
   "metadata": {},
   "outputs": [
    {
     "data": {
      "text/html": [
       "<div>\n",
       "<style scoped>\n",
       "    .dataframe tbody tr th:only-of-type {\n",
       "        vertical-align: middle;\n",
       "    }\n",
       "\n",
       "    .dataframe tbody tr th {\n",
       "        vertical-align: top;\n",
       "    }\n",
       "\n",
       "    .dataframe thead th {\n",
       "        text-align: right;\n",
       "    }\n",
       "</style>\n",
       "<table border=\"1\" class=\"dataframe\">\n",
       "  <thead>\n",
       "    <tr style=\"text-align: right;\">\n",
       "      <th></th>\n",
       "      <th>ProductID</th>\n",
       "      <th>ProductName</th>\n",
       "      <th>Category</th>\n",
       "      <th>Price</th>\n",
       "    </tr>\n",
       "  </thead>\n",
       "  <tbody>\n",
       "    <tr>\n",
       "      <th>0</th>\n",
       "      <td>P001</td>\n",
       "      <td>ActiveWear Biography</td>\n",
       "      <td>Books</td>\n",
       "      <td>169.30</td>\n",
       "    </tr>\n",
       "    <tr>\n",
       "      <th>1</th>\n",
       "      <td>P002</td>\n",
       "      <td>ActiveWear Smartwatch</td>\n",
       "      <td>Electronics</td>\n",
       "      <td>346.30</td>\n",
       "    </tr>\n",
       "    <tr>\n",
       "      <th>2</th>\n",
       "      <td>P003</td>\n",
       "      <td>ComfortLiving Biography</td>\n",
       "      <td>Books</td>\n",
       "      <td>44.12</td>\n",
       "    </tr>\n",
       "    <tr>\n",
       "      <th>3</th>\n",
       "      <td>P004</td>\n",
       "      <td>BookWorld Rug</td>\n",
       "      <td>Home Decor</td>\n",
       "      <td>95.69</td>\n",
       "    </tr>\n",
       "    <tr>\n",
       "      <th>4</th>\n",
       "      <td>P005</td>\n",
       "      <td>TechPro T-Shirt</td>\n",
       "      <td>Clothing</td>\n",
       "      <td>429.31</td>\n",
       "    </tr>\n",
       "  </tbody>\n",
       "</table>\n",
       "</div>"
      ],
      "text/plain": [
       "  ProductID              ProductName     Category   Price\n",
       "0      P001     ActiveWear Biography        Books  169.30\n",
       "1      P002    ActiveWear Smartwatch  Electronics  346.30\n",
       "2      P003  ComfortLiving Biography        Books   44.12\n",
       "3      P004            BookWorld Rug   Home Decor   95.69\n",
       "4      P005          TechPro T-Shirt     Clothing  429.31"
      ]
     },
     "execution_count": 32,
     "metadata": {},
     "output_type": "execute_result"
    }
   ],
   "source": [
    "products_df.head()\n"
   ]
  },
  {
   "cell_type": "code",
   "execution_count": 33,
   "metadata": {},
   "outputs": [
    {
     "data": {
      "text/html": [
       "<div>\n",
       "<style scoped>\n",
       "    .dataframe tbody tr th:only-of-type {\n",
       "        vertical-align: middle;\n",
       "    }\n",
       "\n",
       "    .dataframe tbody tr th {\n",
       "        vertical-align: top;\n",
       "    }\n",
       "\n",
       "    .dataframe thead th {\n",
       "        text-align: right;\n",
       "    }\n",
       "</style>\n",
       "<table border=\"1\" class=\"dataframe\">\n",
       "  <thead>\n",
       "    <tr style=\"text-align: right;\">\n",
       "      <th></th>\n",
       "      <th>TransactionID</th>\n",
       "      <th>CustomerID</th>\n",
       "      <th>ProductID</th>\n",
       "      <th>TransactionDate</th>\n",
       "      <th>Quantity</th>\n",
       "      <th>TotalValue</th>\n",
       "      <th>Price</th>\n",
       "    </tr>\n",
       "  </thead>\n",
       "  <tbody>\n",
       "    <tr>\n",
       "      <th>0</th>\n",
       "      <td>T00001</td>\n",
       "      <td>C0199</td>\n",
       "      <td>P067</td>\n",
       "      <td>2024-08-25 12:38:23</td>\n",
       "      <td>1</td>\n",
       "      <td>300.68</td>\n",
       "      <td>300.68</td>\n",
       "    </tr>\n",
       "    <tr>\n",
       "      <th>1</th>\n",
       "      <td>T00112</td>\n",
       "      <td>C0146</td>\n",
       "      <td>P067</td>\n",
       "      <td>2024-05-27 22:23:54</td>\n",
       "      <td>1</td>\n",
       "      <td>300.68</td>\n",
       "      <td>300.68</td>\n",
       "    </tr>\n",
       "    <tr>\n",
       "      <th>2</th>\n",
       "      <td>T00166</td>\n",
       "      <td>C0127</td>\n",
       "      <td>P067</td>\n",
       "      <td>2024-04-25 07:38:55</td>\n",
       "      <td>1</td>\n",
       "      <td>300.68</td>\n",
       "      <td>300.68</td>\n",
       "    </tr>\n",
       "    <tr>\n",
       "      <th>3</th>\n",
       "      <td>T00272</td>\n",
       "      <td>C0087</td>\n",
       "      <td>P067</td>\n",
       "      <td>2024-03-26 22:55:37</td>\n",
       "      <td>2</td>\n",
       "      <td>601.36</td>\n",
       "      <td>300.68</td>\n",
       "    </tr>\n",
       "    <tr>\n",
       "      <th>4</th>\n",
       "      <td>T00363</td>\n",
       "      <td>C0070</td>\n",
       "      <td>P067</td>\n",
       "      <td>2024-03-21 15:10:10</td>\n",
       "      <td>3</td>\n",
       "      <td>902.04</td>\n",
       "      <td>300.68</td>\n",
       "    </tr>\n",
       "  </tbody>\n",
       "</table>\n",
       "</div>"
      ],
      "text/plain": [
       "  TransactionID CustomerID ProductID      TransactionDate  Quantity  \\\n",
       "0        T00001      C0199      P067  2024-08-25 12:38:23         1   \n",
       "1        T00112      C0146      P067  2024-05-27 22:23:54         1   \n",
       "2        T00166      C0127      P067  2024-04-25 07:38:55         1   \n",
       "3        T00272      C0087      P067  2024-03-26 22:55:37         2   \n",
       "4        T00363      C0070      P067  2024-03-21 15:10:10         3   \n",
       "\n",
       "   TotalValue   Price  \n",
       "0      300.68  300.68  \n",
       "1      300.68  300.68  \n",
       "2      300.68  300.68  \n",
       "3      601.36  300.68  \n",
       "4      902.04  300.68  "
      ]
     },
     "execution_count": 33,
     "metadata": {},
     "output_type": "execute_result"
    }
   ],
   "source": [
    "transactions_df.head()"
   ]
  },
  {
   "cell_type": "code",
   "execution_count": 34,
   "metadata": {},
   "outputs": [
    {
     "name": "stdout",
     "output_type": "stream",
     "text": [
      "<class 'pandas.core.frame.DataFrame'>\n",
      "RangeIndex: 200 entries, 0 to 199\n",
      "Data columns (total 4 columns):\n",
      " #   Column        Non-Null Count  Dtype \n",
      "---  ------        --------------  ----- \n",
      " 0   CustomerID    200 non-null    object\n",
      " 1   CustomerName  200 non-null    object\n",
      " 2   Region        200 non-null    object\n",
      " 3   SignupDate    200 non-null    object\n",
      "dtypes: object(4)\n",
      "memory usage: 6.4+ KB\n"
     ]
    }
   ],
   "source": [
    "customers_df.info()"
   ]
  },
  {
   "cell_type": "code",
   "execution_count": 35,
   "metadata": {},
   "outputs": [
    {
     "name": "stdout",
     "output_type": "stream",
     "text": [
      "<class 'pandas.core.frame.DataFrame'>\n",
      "RangeIndex: 100 entries, 0 to 99\n",
      "Data columns (total 4 columns):\n",
      " #   Column       Non-Null Count  Dtype  \n",
      "---  ------       --------------  -----  \n",
      " 0   ProductID    100 non-null    object \n",
      " 1   ProductName  100 non-null    object \n",
      " 2   Category     100 non-null    object \n",
      " 3   Price        100 non-null    float64\n",
      "dtypes: float64(1), object(3)\n",
      "memory usage: 3.2+ KB\n"
     ]
    }
   ],
   "source": [
    "products_df.info()"
   ]
  },
  {
   "cell_type": "code",
   "execution_count": 36,
   "metadata": {},
   "outputs": [
    {
     "name": "stdout",
     "output_type": "stream",
     "text": [
      "<class 'pandas.core.frame.DataFrame'>\n",
      "RangeIndex: 1000 entries, 0 to 999\n",
      "Data columns (total 7 columns):\n",
      " #   Column           Non-Null Count  Dtype  \n",
      "---  ------           --------------  -----  \n",
      " 0   TransactionID    1000 non-null   object \n",
      " 1   CustomerID       1000 non-null   object \n",
      " 2   ProductID        1000 non-null   object \n",
      " 3   TransactionDate  1000 non-null   object \n",
      " 4   Quantity         1000 non-null   int64  \n",
      " 5   TotalValue       1000 non-null   float64\n",
      " 6   Price            1000 non-null   float64\n",
      "dtypes: float64(2), int64(1), object(4)\n",
      "memory usage: 54.8+ KB\n"
     ]
    }
   ],
   "source": [
    "transactions_df.info()"
   ]
  },
  {
   "cell_type": "markdown",
   "metadata": {},
   "source": [
    "Customers.csv\n",
    "\n",
    "200 rows, 4 columns: CustomerID, CustomerName, Region, and SignupDate. All entries are non-null."
   ]
  },
  {
   "cell_type": "markdown",
   "metadata": {},
   "source": [
    "Transactions.csv\n",
    "\n",
    "1000 rows, 7 columns: TransactionID, CustomerID, ProductID, TransactionDate, Quantity, TotalValue, Price. All entries are non-null."
   ]
  },
  {
   "cell_type": "code",
   "execution_count": 37,
   "metadata": {},
   "outputs": [],
   "source": [
    "# Convert TransactionDate and SignupDate to datetime format for further analysis\n",
    "transactions_df['TransactionDate'] = pd.to_datetime(transactions_df['TransactionDate'])\n",
    "customers_df['SignupDate'] = pd.to_datetime(customers_df['SignupDate'])"
   ]
  },
  {
   "cell_type": "code",
   "execution_count": 38,
   "metadata": {},
   "outputs": [],
   "source": [
    "# Merge datasets: transactions with customers (on CustomerID) and then with products (on ProductID)\n",
    "merged_data = transactions_df.merge(customers_df, on='CustomerID', how='inner').merge(products_df, on='ProductID', how='inner')\n",
    "\n"
   ]
  },
  {
   "cell_type": "code",
   "execution_count": 39,
   "metadata": {},
   "outputs": [],
   "source": [
    "# Create additional features for clustering\n",
    "merged_data['TransactionMonth'] = merged_data['TransactionDate'].dt.month\n",
    "merged_data['TransactionYear'] = merged_data['TransactionDate'].dt.year"
   ]
  },
  {
   "cell_type": "code",
   "execution_count": 40,
   "metadata": {},
   "outputs": [],
   "source": [
    "# Aggregate customer-level data for clustering\n",
    "customer_features = merged_data.groupby('CustomerID').agg({\n",
    "    'Quantity': 'sum',                      # Total products purchased\n",
    "    'TotalValue': 'sum',                    # Total money spent\n",
    "    'TransactionID': 'count',               # Total transactions\n",
    "    'TransactionMonth': 'nunique',          # Number of months with transactions\n",
    "    'Region': 'first',                      # Customer region\n",
    "    'SignupDate': 'first'                   # Signup date\n",
    "}).reset_index()"
   ]
  },
  {
   "cell_type": "code",
   "execution_count": 41,
   "metadata": {},
   "outputs": [
    {
     "name": "stdout",
     "output_type": "stream",
     "text": [
      "    CustomerID  Quantity  TotalValue  TransactionID  TransactionMonth  \\\n",
      "0        C0001        12     3354.52              5                 5   \n",
      "1        C0002        10     1862.74              4                 4   \n",
      "2        C0003        14     2725.38              4                 3   \n",
      "3        C0004        23     5354.88              8                 7   \n",
      "4        C0005         7     2034.24              3                 3   \n",
      "..         ...       ...         ...            ...               ...   \n",
      "194      C0196        12     4982.88              4                 2   \n",
      "195      C0197         9     1928.65              3                 3   \n",
      "196      C0198         3      931.83              2                 2   \n",
      "197      C0199         9     1979.28              4                 2   \n",
      "198      C0200        16     4758.60              5                 5   \n",
      "\n",
      "            Region SignupDate  \n",
      "0    South America 2022-07-10  \n",
      "1             Asia 2022-02-13  \n",
      "2    South America 2024-03-07  \n",
      "3    South America 2022-10-09  \n",
      "4             Asia 2022-08-15  \n",
      "..             ...        ...  \n",
      "194         Europe 2022-06-07  \n",
      "195         Europe 2023-03-21  \n",
      "196         Europe 2022-02-27  \n",
      "197         Europe 2022-12-03  \n",
      "198           Asia 2023-06-11  \n",
      "\n",
      "[199 rows x 7 columns]\n"
     ]
    }
   ],
   "source": [
    "print(customer_features)"
   ]
  },
  {
   "cell_type": "code",
   "execution_count": 42,
   "metadata": {},
   "outputs": [],
   "source": [
    "# Add recency feature: days since the last transaction\n",
    "customer_features['Recency'] = (merged_data['TransactionDate'].max() - customer_features['SignupDate']).dt.days\n",
    "\n"
   ]
  },
  {
   "cell_type": "code",
   "execution_count": 43,
   "metadata": {},
   "outputs": [],
   "source": [
    "# Convert categorical variable (Region) into dummy variables\n",
    "customer_features = pd.get_dummies(customer_features, columns=['Region'], drop_first=True)"
   ]
  },
  {
   "cell_type": "code",
   "execution_count": 44,
   "metadata": {},
   "outputs": [],
   "source": [
    "# Scale numerical features for clustering\n",
    "from sklearn.preprocessing import StandardScaler"
   ]
  },
  {
   "cell_type": "code",
   "execution_count": 45,
   "metadata": {},
   "outputs": [],
   "source": [
    "scaler = StandardScaler()\n",
    "numeric_features = ['Quantity', 'TotalValue', 'TransactionID', 'TransactionMonth', 'Recency']\n",
    "customer_features_scaled = customer_features.copy()\n",
    "customer_features_scaled[numeric_features] = scaler.fit_transform(customer_features_scaled[numeric_features])"
   ]
  },
  {
   "cell_type": "code",
   "execution_count": 46,
   "metadata": {},
   "outputs": [
    {
     "data": {
      "text/html": [
       "<div>\n",
       "<style scoped>\n",
       "    .dataframe tbody tr th:only-of-type {\n",
       "        vertical-align: middle;\n",
       "    }\n",
       "\n",
       "    .dataframe tbody tr th {\n",
       "        vertical-align: top;\n",
       "    }\n",
       "\n",
       "    .dataframe thead th {\n",
       "        text-align: right;\n",
       "    }\n",
       "</style>\n",
       "<table border=\"1\" class=\"dataframe\">\n",
       "  <thead>\n",
       "    <tr style=\"text-align: right;\">\n",
       "      <th></th>\n",
       "      <th>CustomerID</th>\n",
       "      <th>Quantity</th>\n",
       "      <th>TotalValue</th>\n",
       "      <th>TransactionID</th>\n",
       "      <th>TransactionMonth</th>\n",
       "      <th>SignupDate</th>\n",
       "      <th>Recency</th>\n",
       "      <th>Region_Europe</th>\n",
       "      <th>Region_North America</th>\n",
       "      <th>Region_South America</th>\n",
       "    </tr>\n",
       "  </thead>\n",
       "  <tbody>\n",
       "    <tr>\n",
       "      <th>0</th>\n",
       "      <td>C0001</td>\n",
       "      <td>-0.122033</td>\n",
       "      <td>-0.061701</td>\n",
       "      <td>-0.011458</td>\n",
       "      <td>0.574943</td>\n",
       "      <td>2022-07-10</td>\n",
       "      <td>1.148752</td>\n",
       "      <td>False</td>\n",
       "      <td>False</td>\n",
       "      <td>True</td>\n",
       "    </tr>\n",
       "    <tr>\n",
       "      <th>1</th>\n",
       "      <td>C0002</td>\n",
       "      <td>-0.448000</td>\n",
       "      <td>-0.877744</td>\n",
       "      <td>-0.467494</td>\n",
       "      <td>-0.053703</td>\n",
       "      <td>2022-02-13</td>\n",
       "      <td>1.600431</td>\n",
       "      <td>False</td>\n",
       "      <td>False</td>\n",
       "      <td>False</td>\n",
       "    </tr>\n",
       "    <tr>\n",
       "      <th>2</th>\n",
       "      <td>C0003</td>\n",
       "      <td>0.203934</td>\n",
       "      <td>-0.405857</td>\n",
       "      <td>-0.467494</td>\n",
       "      <td>-0.682350</td>\n",
       "      <td>2024-03-07</td>\n",
       "      <td>-0.713270</td>\n",
       "      <td>False</td>\n",
       "      <td>False</td>\n",
       "      <td>True</td>\n",
       "    </tr>\n",
       "    <tr>\n",
       "      <th>3</th>\n",
       "      <td>C0004</td>\n",
       "      <td>1.670787</td>\n",
       "      <td>1.032547</td>\n",
       "      <td>1.356650</td>\n",
       "      <td>1.832235</td>\n",
       "      <td>2022-10-09</td>\n",
       "      <td>0.869141</td>\n",
       "      <td>False</td>\n",
       "      <td>False</td>\n",
       "      <td>True</td>\n",
       "    </tr>\n",
       "    <tr>\n",
       "      <th>4</th>\n",
       "      <td>C0005</td>\n",
       "      <td>-0.936951</td>\n",
       "      <td>-0.783929</td>\n",
       "      <td>-0.923530</td>\n",
       "      <td>-0.682350</td>\n",
       "      <td>2022-08-15</td>\n",
       "      <td>1.038137</td>\n",
       "      <td>False</td>\n",
       "      <td>False</td>\n",
       "      <td>False</td>\n",
       "    </tr>\n",
       "  </tbody>\n",
       "</table>\n",
       "</div>"
      ],
      "text/plain": [
       "  CustomerID  Quantity  TotalValue  TransactionID  TransactionMonth  \\\n",
       "0      C0001 -0.122033   -0.061701      -0.011458          0.574943   \n",
       "1      C0002 -0.448000   -0.877744      -0.467494         -0.053703   \n",
       "2      C0003  0.203934   -0.405857      -0.467494         -0.682350   \n",
       "3      C0004  1.670787    1.032547       1.356650          1.832235   \n",
       "4      C0005 -0.936951   -0.783929      -0.923530         -0.682350   \n",
       "\n",
       "  SignupDate   Recency  Region_Europe  Region_North America  \\\n",
       "0 2022-07-10  1.148752          False                 False   \n",
       "1 2022-02-13  1.600431          False                 False   \n",
       "2 2024-03-07 -0.713270          False                 False   \n",
       "3 2022-10-09  0.869141          False                 False   \n",
       "4 2022-08-15  1.038137          False                 False   \n",
       "\n",
       "   Region_South America  \n",
       "0                  True  \n",
       "1                 False  \n",
       "2                  True  \n",
       "3                  True  \n",
       "4                 False  "
      ]
     },
     "execution_count": 46,
     "metadata": {},
     "output_type": "execute_result"
    }
   ],
   "source": [
    "# Display prepared features for clustering\n",
    "customer_features_scaled.head()"
   ]
  },
  {
   "cell_type": "markdown",
   "metadata": {},
   "source": [
    "Numerical features:\n",
    "\n",
    "\n",
    "Quantity: Total products purchased (scaled).\n",
    "\n",
    "TotalValue: Total spending (scaled).\n",
    "\n",
    "TransactionID: Total transactions (scaled).\n",
    "\n",
    "TransactionMonth: Number of unique transaction months (scaled).\n",
    "\n",
    "Recency: Days since the last transaction (scaled).\n",
    "\n",
    "Categorical features (one-hot encoded):\n",
    "\n",
    "Region_Europe\n",
    "\n",
    "Region_North America\n",
    "\n",
    "Region_South America"
   ]
  },
  {
   "cell_type": "code",
   "execution_count": null,
   "metadata": {},
   "outputs": [],
   "source": []
  },
  {
   "cell_type": "markdown",
   "metadata": {},
   "source": [
    "Applying  clustering algorithms (e.g., K-Means) and determine the optimal number of clusters."
   ]
  },
  {
   "cell_type": "code",
   "execution_count": 47,
   "metadata": {},
   "outputs": [],
   "source": [
    "from sklearn.cluster import KMeans\n",
    "from sklearn.metrics import davies_bouldin_score\n",
    "from sklearn.decomposition import PCA\n",
    "import matplotlib.pyplot as plt\n",
    "import seaborn as sns"
   ]
  },
  {
   "cell_type": "code",
   "execution_count": 48,
   "metadata": {},
   "outputs": [],
   "source": [
    "# Apply K-Means clustering with cluster counts ranging from 2 to 10\n",
    "db_scores = []\n",
    "cluster_range = range(2, 11)\n",
    "kmeans_models = {}\n",
    "\n",
    "for k in cluster_range:\n",
    "    kmeans = KMeans(n_clusters=k, random_state=42, n_init=10)\n",
    "    clusters = kmeans.fit_predict(customer_features_scaled[numeric_features + ['Region_Europe', 'Region_North America', 'Region_South America']])\n",
    "    kmeans_models[k] = kmeans\n",
    "    db_scores.append(davies_bouldin_score(customer_features_scaled[numeric_features], clusters))"
   ]
  },
  {
   "cell_type": "code",
   "execution_count": 49,
   "metadata": {},
   "outputs": [],
   "source": [
    "# Identify the number of clusters with the lowest Davies-Bouldin Index\n",
    "optimal_clusters = cluster_range[db_scores.index(min(db_scores))]\n",
    "\n"
   ]
  },
  {
   "cell_type": "code",
   "execution_count": 50,
   "metadata": {},
   "outputs": [
    {
     "data": {
      "image/png": "[encoded data removed]",
      "text/plain": [
       "<Figure size 1000x600 with 1 Axes>"
      ]
     },
     "metadata": {},
     "output_type": "display_data"
    }
   ],
   "source": [
    "# Visualize the Davies-Bouldin Index for different numbers of clusters\n",
    "plt.figure(figsize=(10, 6))\n",
    "sns.lineplot(x=list(cluster_range), y=db_scores, marker='o', color='b')\n",
    "plt.title('Davies-Bouldin Index for Different Cluster Numbers', fontsize=16)\n",
    "plt.xlabel('Number of Clusters', fontsize=14)\n",
    "plt.ylabel('Davies-Bouldin Index', fontsize=14)\n",
    "plt.xticks(cluster_range)\n",
    "plt.grid()\n",
    "plt.show()"
   ]
  },
  {
   "cell_type": "code",
   "execution_count": 51,
   "metadata": {},
   "outputs": [
    {
     "data": {
      "text/plain": [
       "(6, 1.0265154153705602)"
      ]
     },
     "execution_count": 51,
     "metadata": {},
     "output_type": "execute_result"
    }
   ],
   "source": [
    "# Optimal number of clusters\n",
    "optimal_clusters, min(db_scores)"
   ]
  },
  {
   "cell_type": "markdown",
   "metadata": {},
   "source": [
    "The optimal number of clusters based on the Davies-Bouldin Index is 6, with a minimum DB Index value of 1.007."
   ]
  },
  {
   "cell_type": "code",
   "execution_count": 52,
   "metadata": {},
   "outputs": [],
   "source": [
    "# Perform clustering with the optimal number of clusters (6)\n",
    "final_kmeans = kmeans_models[optimal_clusters]\n",
    "customer_features_scaled['Cluster'] = final_kmeans.labels_"
   ]
  },
  {
   "cell_type": "code",
   "execution_count": 53,
   "metadata": {},
   "outputs": [],
   "source": [
    "# Apply PCA for visualization (reduce to 2 dimensions)\n",
    "pca = PCA(n_components=2, random_state=42)\n",
    "pca_result = pca.fit_transform(customer_features_scaled[numeric_features + ['Region_Europe', 'Region_North America', 'Region_South America']])\n",
    "\n"
   ]
  },
  {
   "cell_type": "code",
   "execution_count": 54,
   "metadata": {},
   "outputs": [],
   "source": [
    "# Add PCA results to the DataFrame\n",
    "customer_features_scaled['PCA1'] = pca_result[:, 0]\n",
    "customer_features_scaled['PCA2'] = pca_result[:, 1]"
   ]
  },
  {
   "cell_type": "code",
   "execution_count": 55,
   "metadata": {},
   "outputs": [
    {
     "data": {
      "image/png": "[encoded data removed]",
      "text/plain": [
       "<Figure size 1200x800 with 1 Axes>"
      ]
     },
     "metadata": {},
     "output_type": "display_data"
    }
   ],
   "source": [
    "# Plot the clusters in PCA-reduced space\n",
    "plt.figure(figsize=(12, 8))\n",
    "sns.scatterplot(\n",
    "    x='PCA1', y='PCA2', hue='Cluster',\n",
    "    palette='tab10', data=customer_features_scaled, s=100\n",
    ")\n",
    "plt.title('Customer Clusters Visualized in PCA Space', fontsize=16)\n",
    "plt.xlabel('Principal Component 1', fontsize=14)\n",
    "plt.ylabel('Principal Component 2', fontsize=14)\n",
    "plt.legend(title='Cluster', fontsize=12, bbox_to_anchor=(1.05, 1))\n",
    "plt.grid()\n",
    "plt.show()"
   ]
  },
  {
   "cell_type": "code",
   "execution_count": 56,
   "metadata": {},
   "outputs": [
    {
     "data": {
      "text/html": [
       "<div>\n",
       "<style scoped>\n",
       "    .dataframe tbody tr th:only-of-type {\n",
       "        vertical-align: middle;\n",
       "    }\n",
       "\n",
       "    .dataframe tbody tr th {\n",
       "        vertical-align: top;\n",
       "    }\n",
       "\n",
       "    .dataframe thead th {\n",
       "        text-align: right;\n",
       "    }\n",
       "</style>\n",
       "<table border=\"1\" class=\"dataframe\">\n",
       "  <thead>\n",
       "    <tr style=\"text-align: right;\">\n",
       "      <th></th>\n",
       "      <th>Quantity</th>\n",
       "      <th>TotalValue</th>\n",
       "      <th>TransactionID</th>\n",
       "      <th>TransactionMonth</th>\n",
       "      <th>Recency</th>\n",
       "      <th>PCA1</th>\n",
       "      <th>PCA2</th>\n",
       "    </tr>\n",
       "    <tr>\n",
       "      <th>Cluster</th>\n",
       "      <th></th>\n",
       "      <th></th>\n",
       "      <th></th>\n",
       "      <th></th>\n",
       "      <th></th>\n",
       "      <th></th>\n",
       "      <th></th>\n",
       "    </tr>\n",
       "  </thead>\n",
       "  <tbody>\n",
       "    <tr>\n",
       "      <th>0</th>\n",
       "      <td>0.90</td>\n",
       "      <td>0.82</td>\n",
       "      <td>0.89</td>\n",
       "      <td>0.85</td>\n",
       "      <td>-0.93</td>\n",
       "      <td>1.69</td>\n",
       "      <td>-1.01</td>\n",
       "    </tr>\n",
       "    <tr>\n",
       "      <th>1</th>\n",
       "      <td>-0.58</td>\n",
       "      <td>-0.62</td>\n",
       "      <td>-0.63</td>\n",
       "      <td>-0.61</td>\n",
       "      <td>0.95</td>\n",
       "      <td>-1.19</td>\n",
       "      <td>0.99</td>\n",
       "    </tr>\n",
       "    <tr>\n",
       "      <th>2</th>\n",
       "      <td>1.83</td>\n",
       "      <td>1.64</td>\n",
       "      <td>1.64</td>\n",
       "      <td>1.30</td>\n",
       "      <td>0.86</td>\n",
       "      <td>3.25</td>\n",
       "      <td>0.73</td>\n",
       "    </tr>\n",
       "    <tr>\n",
       "      <th>3</th>\n",
       "      <td>-0.32</td>\n",
       "      <td>-0.24</td>\n",
       "      <td>-0.20</td>\n",
       "      <td>-0.08</td>\n",
       "      <td>-0.87</td>\n",
       "      <td>-0.46</td>\n",
       "      <td>-0.86</td>\n",
       "    </tr>\n",
       "    <tr>\n",
       "      <th>4</th>\n",
       "      <td>-1.41</td>\n",
       "      <td>-1.32</td>\n",
       "      <td>-1.48</td>\n",
       "      <td>-1.55</td>\n",
       "      <td>-0.47</td>\n",
       "      <td>-2.90</td>\n",
       "      <td>-0.35</td>\n",
       "    </tr>\n",
       "    <tr>\n",
       "      <th>5</th>\n",
       "      <td>0.30</td>\n",
       "      <td>0.36</td>\n",
       "      <td>0.39</td>\n",
       "      <td>0.48</td>\n",
       "      <td>0.82</td>\n",
       "      <td>0.80</td>\n",
       "      <td>0.82</td>\n",
       "    </tr>\n",
       "  </tbody>\n",
       "</table>\n",
       "</div>"
      ],
      "text/plain": [
       "         Quantity  TotalValue  TransactionID  TransactionMonth  Recency  PCA1  \\\n",
       "Cluster                                                                         \n",
       "0            0.90        0.82           0.89              0.85    -0.93  1.69   \n",
       "1           -0.58       -0.62          -0.63             -0.61     0.95 -1.19   \n",
       "2            1.83        1.64           1.64              1.30     0.86  3.25   \n",
       "3           -0.32       -0.24          -0.20             -0.08    -0.87 -0.46   \n",
       "4           -1.41       -1.32          -1.48             -1.55    -0.47 -2.90   \n",
       "5            0.30        0.36           0.39              0.48     0.82  0.80   \n",
       "\n",
       "         PCA2  \n",
       "Cluster        \n",
       "0       -1.01  \n",
       "1        0.99  \n",
       "2        0.73  \n",
       "3       -0.86  \n",
       "4       -0.35  \n",
       "5        0.82  "
      ]
     },
     "execution_count": 56,
     "metadata": {},
     "output_type": "execute_result"
    }
   ],
   "source": [
    "# Save clustering results for the report\n",
    "numeric_columns = customer_features_scaled.select_dtypes(include=['float64', 'int64']).columns\n",
    "clustering_summary = customer_features_scaled.groupby('Cluster')[numeric_columns].mean().round(2)\n",
    "clustering_summary"
   ]
  },
  {
   "cell_type": "code",
   "execution_count": null,
   "metadata": {},
   "outputs": [],
   "source": []
  },
  {
   "cell_type": "code",
   "execution_count": null,
   "metadata": {},
   "outputs": [],
   "source": []
  }
 ],
 "metadata": {
  "kernelspec": {
   "display_name": "Python 3",
   "language": "python",
   "name": "python3"
  },
  "language_info": {
   "codemirror_mode": {
    "name": "ipython",
    "version": 3
   },
   "file_extension": ".py",
   "mimetype": "text/x-python",
   "name": "python",
   "nbconvert_exporter": "python",
   "pygments_lexer": "ipython3",
   "version": "3.10.0"
  }
 },
 "nbformat": 4,
 "nbformat_minor": 2
}
